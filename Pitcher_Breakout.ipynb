{
 "cells": [
  {
   "cell_type": "markdown",
   "id": "131531f3-38d0-47f9-82d1-12175ab6abe1",
   "metadata": {},
   "source": [
    "# --- PITCHER BREAKOUT PREDICTION PROJECT ---"
   ]
  },
  {
   "cell_type": "markdown",
   "id": "f8ea040e-db8e-4d84-8740-c54f94bf4af8",
   "metadata": {},
   "source": [
    "## Importing libraries"
   ]
  },
  {
   "cell_type": "code",
   "execution_count": 3,
   "id": "9ddc2254-c2fd-441a-ae60-6d9773fde66a",
   "metadata": {},
   "outputs": [],
   "source": [
    "import pandas as pd\n",
    "import sklearn\n",
    "import xgboost as xgb\n",
    "import matplotlib.pyplot as plt \n",
    "import seaborn as sns"
   ]
  },
  {
   "cell_type": "markdown",
   "id": "50b04433-5090-45b8-8cc7-2b5b0f463add",
   "metadata": {},
   "source": [
    "## Importing excel files "
   ]
  },
  {
   "cell_type": "code",
   "execution_count": 5,
   "id": "fd552012-e81d-4ba9-a42f-132693ab08a0",
   "metadata": {},
   "outputs": [
    {
     "name": "stdout",
     "output_type": "stream",
     "text": [
      "  last_name, first_name  player_id  year  player_age   pa  p_era  xbadiff  \\\n",
      "0       Estévez, Carlos     608032  2023          30  281   3.90    0.020   \n",
      "1         La Sorsa, Joe     686747  2023          25  145   4.41   -0.024   \n",
      "2           Miley, Wade     489119  2023          36  490   3.14   -0.030   \n",
      "3          López, Pablo     641154  2023          27  801   3.66    0.022   \n",
      "4          Bolton, Cody     675989  2023          25  107   6.33    0.032   \n",
      "\n",
      "   xslgdiff  barrel_batted_rate  oz_swing_percent  whiff_percent  \n",
      "0     0.000                 6.6              27.1           27.5  \n",
      "1    -0.020                 2.0              23.3           22.5  \n",
      "2    -0.032                 7.6              26.7           19.1  \n",
      "3     0.045                 6.3              34.3           30.3  \n",
      "4     0.031                10.1              19.3           23.3  \n",
      "  last_name, first_name  player_id  year  player_age   pa  p_era  xbadiff  \\\n",
      "0        Luzardo, Jesús     666200  2024          26  274   5.00   -0.009   \n",
      "1        Houser, Adrian     605288  2024          31  309   5.84    0.004   \n",
      "2           Smyly, Drew     592767  2024          35  257   3.84    0.018   \n",
      "3       Stratton, Chris     608717  2024          33  257   5.55   -0.007   \n",
      "4        Lucchesi, Joey     664192  2024          31   46   5.23   -0.051   \n",
      "\n",
      "   xslgdiff  barrel_batted_rate  oz_swing_percent  whiff_percent  \n",
      "0    -0.021                 9.9              29.8           29.6  \n",
      "1     0.002                 8.8              22.3           18.2  \n",
      "2     0.048                 6.4              27.7           25.2  \n",
      "3    -0.001                 8.5              24.4           20.6  \n",
      "4    -0.055                 9.7              19.1           12.7  \n"
     ]
    }
   ],
   "source": [
    "Pitching_2023 = pd.read_excel('Pitching_2023.xlsx', skiprows=1)\n",
    "Pitching_2024 = pd.read_excel('Pitching_2024.xlsx', skiprows=1)\n",
    "\n",
    "print(Pitching_2023.head())\n",
    "\n",
    "print(Pitching_2024.head())"
   ]
  },
  {
   "cell_type": "markdown",
   "id": "f1e483d4-983c-453f-897e-afb983d656dc",
   "metadata": {},
   "source": [
    "## Fixing Names "
   ]
  },
  {
   "cell_type": "code",
   "execution_count": 7,
   "id": "57dd27a4-2379-4a2c-8b8f-211036664be4",
   "metadata": {},
   "outputs": [
    {
     "name": "stdout",
     "output_type": "stream",
     "text": [
      "  last_name, first_name  player_id  year  player_age   pa  p_era  xbadiff  \\\n",
      "0       Estévez, Carlos     608032  2023          30  281   3.90    0.020   \n",
      "1         La Sorsa, Joe     686747  2023          25  145   4.41   -0.024   \n",
      "2           Miley, Wade     489119  2023          36  490   3.14   -0.030   \n",
      "3          López, Pablo     641154  2023          27  801   3.66    0.022   \n",
      "4          Bolton, Cody     675989  2023          25  107   6.33    0.032   \n",
      "\n",
      "   xslgdiff  barrel_batted_rate  oz_swing_percent  whiff_percent  \\\n",
      "0     0.000                 6.6              27.1           27.5   \n",
      "1    -0.020                 2.0              23.3           22.5   \n",
      "2    -0.032                 7.6              26.7           19.1   \n",
      "3     0.045                 6.3              34.3           30.3   \n",
      "4     0.031                10.1              19.3           23.3   \n",
      "\n",
      "             Name  \n",
      "0  Carlos Estévez  \n",
      "1    Joe La Sorsa  \n",
      "2      Wade Miley  \n",
      "3     Pablo López  \n",
      "4     Cody Bolton  \n",
      "  last_name, first_name  player_id  year  player_age   pa  p_era  xbadiff  \\\n",
      "0        Luzardo, Jesús     666200  2024          26  274   5.00   -0.009   \n",
      "1        Houser, Adrian     605288  2024          31  309   5.84    0.004   \n",
      "2           Smyly, Drew     592767  2024          35  257   3.84    0.018   \n",
      "3       Stratton, Chris     608717  2024          33  257   5.55   -0.007   \n",
      "4        Lucchesi, Joey     664192  2024          31   46   5.23   -0.051   \n",
      "\n",
      "   xslgdiff  barrel_batted_rate  oz_swing_percent  whiff_percent  \\\n",
      "0    -0.021                 9.9              29.8           29.6   \n",
      "1     0.002                 8.8              22.3           18.2   \n",
      "2     0.048                 6.4              27.7           25.2   \n",
      "3    -0.001                 8.5              24.4           20.6   \n",
      "4    -0.055                 9.7              19.1           12.7   \n",
      "\n",
      "             Name  \n",
      "0   Jesús Luzardo  \n",
      "1   Adrian Houser  \n",
      "2      Drew Smyly  \n",
      "3  Chris Stratton  \n",
      "4   Joey Lucchesi  \n"
     ]
    }
   ],
   "source": [
    "# For 2023\n",
    "Pitching_2023[['Last', 'First']] = Pitching_2023['last_name, first_name'].str.split(', ', expand=True)\n",
    "Pitching_2023['Name'] = Pitching_2023['First'] + ' ' + Pitching_2023['Last']\n",
    "Pitching_2023 = Pitching_2023.drop(columns=['First', 'Last'])\n",
    "\n",
    "# For 2024\n",
    "Pitching_2024[['Last', 'First']] = Pitching_2024['last_name, first_name'].str.split(', ', expand=True)\n",
    "Pitching_2024['Name'] = Pitching_2024['First'] + ' ' + Pitching_2024['Last']\n",
    "Pitching_2024 = Pitching_2024.drop(columns=['First', 'Last'])\n",
    "\n",
    "print(Pitching_2023.head())\n",
    "\n",
    "print(Pitching_2024.head())"
   ]
  },
  {
   "cell_type": "markdown",
   "id": "0337a8d5-9037-40c5-baae-46b16c7b1f3b",
   "metadata": {},
   "source": [
    "## Merging and Filtering "
   ]
  },
  {
   "cell_type": "code",
   "execution_count": 9,
   "id": "679b31ec-37a3-4576-a13b-3c47cbb84b55",
   "metadata": {},
   "outputs": [],
   "source": [
    "merged_Pitching = pd.merge(Pitching_2023, Pitching_2024, on=\"Name\", suffixes=(\"_2023\", \"_2024\"))\n",
    "\n",
    "pitchers_filtered = merged_Pitching[\n",
    "    (merged_Pitching['player_age_2024'] <= 27) & \n",
    "    (merged_Pitching['pa_2023'] >= 150) & \n",
    "    (merged_Pitching['pa_2023'] <= 500) &\n",
    "    (merged_Pitching['pa_2024'] >=150)  &\n",
    "    (merged_Pitching['pa_2024'] <= 500)\n",
    "]"
   ]
  },
  {
   "cell_type": "markdown",
   "id": "4bafdbea-3f5b-499e-986a-f269b2feaa28",
   "metadata": {},
   "source": [
    "## Making 2023 and 2024 dataframes and renaming variables for consistency "
   ]
  },
  {
   "cell_type": "code",
   "execution_count": 11,
   "id": "adee7f81-67e1-4bb5-8ccd-de780e8f360c",
   "metadata": {},
   "outputs": [],
   "source": [
    "Training_2023 = pitchers_filtered.copy()\n",
    "Training_2024 = pitchers_filtered.copy()\n",
    "\n",
    "Training_2023 = Training_2023.rename(columns={\n",
    "    'xslgdiff_2023': 'xslgdiff',\n",
    "    'xbadiff_2023': 'xbadiff'    \n",
    "})\n",
    "\n",
    "Training_2024 = Training_2024.rename(columns={\n",
    "    'xslgdiff_2023': 'xslgdiff',\n",
    "    'xbadiff_2023': 'xbadiff'    \n",
    "})\n",
    "\n",
    "X = Training_2023[['xslgdiff', 'xbadiff']]\n",
    "y = Training_2023['p_era_2024']"
   ]
  },
  {
   "cell_type": "markdown",
   "id": "c14f67f8-a26d-4514-8536-c505a123b1a1",
   "metadata": {},
   "source": [
    "## Building the model "
   ]
  },
  {
   "cell_type": "code",
   "execution_count": 13,
   "id": "bf2dab1c-06c2-4f44-99c6-1ed1ea67483e",
   "metadata": {},
   "outputs": [],
   "source": [
    "from sklearn.model_selection import train_test_split\n",
    "\n",
    "X_train, X_test, y_train, y_test = train_test_split(X, y, test_size=0.2, random_state=21)\n",
    "\n",
    "model = xgb.XGBRegressor(objective='reg:squarederror', n_estimators=100, random_state=21) \n",
    "model.fit(X_train, y_train)\n",
    "\n",
    "X_future = Training_2024[['xslgdiff', 'xbadiff']]\n",
    "Training_2024['ERA_2025_pred'] = model.predict(X_future)"
   ]
  },
  {
   "cell_type": "markdown",
   "id": "a4908c14-9c3a-43e5-afb9-019ccef07b69",
   "metadata": {},
   "source": [
    "## Plotting the top 10 "
   ]
  },
  {
   "cell_type": "code",
   "execution_count": 15,
   "id": "2bbc6562-9afc-478c-93e7-c864a25c35b2",
   "metadata": {},
   "outputs": [
    {
     "data": {
      "text/plain": [
       "<Axes: xlabel='ERA_2025_pred', ylabel='Name'>"
      ]
     },
     "execution_count": 15,
     "metadata": {},
     "output_type": "execute_result"
    },
    {
     "data": {
      "image/png": "[encoded data removed]",
      "text/plain": [
       "<Figure size 1000x600 with 1 Axes>"
      ]
     },
     "metadata": {},
     "output_type": "display_data"
    }
   ],
   "source": [
    "top_10 = Training_2024.sort_values('ERA_2025_pred').head(10)\n",
    "\n",
    "import warnings\n",
    "warnings.simplefilter(action='ignore', category=FutureWarning)\n",
    "\n",
    "plt.figure(figsize=(10,6))\n",
    "sns.barplot(\n",
    "    x='ERA_2025_pred',\n",
    "    y='Name',\n",
    "    data=top_10,\n",
    "    palette='viridis',\n",
    "    orient='h'\n",
    ")"
   ]
  },
  {
   "cell_type": "markdown",
   "id": "745afd52-6cba-43a3-a475-62fd53a171b1",
   "metadata": {},
   "source": [
    "## Model Metrics "
   ]
  },
  {
   "cell_type": "code",
   "execution_count": 17,
   "id": "7abc6979-6aa2-4450-906d-27f2f46851a6",
   "metadata": {},
   "outputs": [
    {
     "name": "stdout",
     "output_type": "stream",
     "text": [
      "    Feature  Importance\n",
      "0  xslgdiff    0.354736\n",
      "1   xbadiff    0.645264\n"
     ]
    }
   ],
   "source": [
    "importance_df = pd.DataFrame({\n",
    "    'Feature': model.get_booster().feature_names,\n",
    "    'Importance': model.feature_importances_\n",
    "})\n",
    "\n",
    "print(importance_df)"
   ]
  },
  {
   "cell_type": "code",
   "execution_count": null,
   "id": "97df6399-994e-44a8-b271-0802fc3f5ab7",
   "metadata": {},
   "outputs": [],
   "source": []
  }
 ],
 "metadata": {
  "kernelspec": {
   "display_name": "Python 3 (ipykernel)",
   "language": "python",
   "name": "python3"
  },
  "language_info": {
   "codemirror_mode": {
    "name": "ipython",
    "version": 3
   },
   "file_extension": ".py",
   "mimetype": "text/x-python",
   "name": "python",
   "nbconvert_exporter": "python",
   "pygments_lexer": "ipython3",
   "version": "3.12.2"
  }
 },
 "nbformat": 4,
 "nbformat_minor": 5
}
